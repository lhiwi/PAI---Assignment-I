{
  "nbformat": 4,
  "nbformat_minor": 0,
  "metadata": {
    "colab": {
      "provenance": [],
      "authorship_tag": "ABX9TyOiBQ+07zvvZCrZXIYYvo3T",
      "include_colab_link": true
    },
    "kernelspec": {
      "name": "python3",
      "display_name": "Python 3"
    },
    "language_info": {
      "name": "python"
    }
  },
  "cells": [
    {
      "cell_type": "markdown",
      "metadata": {
        "id": "view-in-github",
        "colab_type": "text"
      },
      "source": [
        "<a href=\"https://colab.research.google.com/github/lhiwi/PAI---Assignment-I/blob/main/PAI_Assignment_.ipynb\" target=\"_parent\"><img src=\"https://colab.research.google.com/assets/colab-badge.svg\" alt=\"Open In Colab\"/></a>"
      ]
    },
    {
      "cell_type": "markdown",
      "source": [
        "# Longest Increasing Subsequence (LIS) using dymanic programing"
      ],
      "metadata": {
        "id": "uK0aDkicHtjJ"
      }
    },
    {
      "cell_type": "code",
      "execution_count": 19,
      "metadata": {
        "colab": {
          "base_uri": "https://localhost:8080/"
        },
        "id": "GY-IBJBmHq3D",
        "outputId": "6c5a0c68-02a9-4bbc-f866-9ff7eb82aeb3"
      },
      "outputs": [
        {
          "output_type": "stream",
          "name": "stdout",
          "text": [
            "LIS: 6\n"
          ]
        }
      ],
      "source": [
        "def length_of_lis_dp(arr):\n",
        "    if not arr:\n",
        "        return 0\n",
        "\n",
        "    n = len(arr)\n",
        "    dp = [1] * n  # Each element itself is an LIS of length 1\n",
        "\n",
        "    for i in range(n):\n",
        "        for j in range(i):\n",
        "            if arr[i] > arr[j]:  # Increasing sequence\n",
        "                dp[i] = max(dp[i], dp[j] + 1)\n",
        "\n",
        "    return max(dp)  # The length of the longest increasing subsequence\n",
        "\n",
        "# Example usage\n",
        "arr = [10, 22, 9, 33, 21, 50, 41, 60, 80]\n",
        "print(\"LIS:\",length_of_lis_dp(arr))\n",
        "\n"
      ]
    },
    {
      "cell_type": "markdown",
      "source": [
        "# Sudoku Solver (using backtracking)"
      ],
      "metadata": {
        "id": "83H2ot_lLc0V"
      }
    },
    {
      "cell_type": "code",
      "source": [
        "def find_empty_cell(board):\n",
        "    for row in range(9):\n",
        "        for col in range(9):\n",
        "            if board[row][col] == 0:\n",
        "                return row, col  # empty cell\n",
        "    return None  # No empty cell\n",
        "\n",
        "\n",
        "def is_safe(board, row, col, number):\n",
        "    # Check if the number is already in the current row\n",
        "    if number in board[row]:\n",
        "        return False\n",
        "\n",
        "    # Check the current column for the number\n",
        "    for i in range(9):\n",
        "        if board[i][col] == number:\n",
        "            return False\n",
        "\n",
        "    # Determine the top-left corner of the 3x3 subgrid\n",
        "    start_row = (row // 3) * 3\n",
        "    start_col = (col // 3) * 3\n",
        "    for i in range(start_row, start_row + 3):\n",
        "        for j in range(start_col, start_col + 3):\n",
        "            if board[i][j] == number:\n",
        "                return False\n",
        "\n",
        "    return True  # The number can be safely placed\n",
        "\n",
        "def solve_sudoku(board):\n",
        "    empty_cell = find_empty_cell(board)\n",
        "    if not empty_cell:\n",
        "        return True  # No empty cells, puzzle solved!\n",
        "\n",
        "    row, col = empty_cell\n",
        "    for num in range(1, 10):  # Try numbers 1 through 9\n",
        "        if is_safe(board, row, col, num):\n",
        "            board[row][col] = num  # Tentatively place the number\n",
        "\n",
        "            if solve_sudoku(board):\n",
        "                return True  # If the board is solved, propagate True\n",
        "\n",
        "            board[row][col] = 0  # Backtrack if not solvable with this number\n",
        "\n",
        "    return False  # Trigger backtracking\n",
        "\n",
        "\n",
        "def print_board(board):\n",
        "    for row in range(9):\n",
        "        if row % 3 == 0 and row != 0:\n",
        "            print(\"-\" * 21)\n",
        "        for col in range(9):\n",
        "            if col % 3 == 0 and col != 0:\n",
        "                print(\"| \", end=\"\")\n",
        "            cell = board[row][col]\n",
        "            print(cell if cell != 0 else \".\", end=\" \")\n",
        "        print()\n",
        "\n",
        "def main():\n",
        "    # Sample Sudoku board\n",
        "    sudoku_board = [\n",
        "        [5, 3, 0, 0, 7, 0, 0, 0, 0],\n",
        "        [6, 0, 0, 1, 9, 5, 0, 0, 0],\n",
        "        [0, 9, 8, 0, 0, 0, 0, 6, 0],\n",
        "        [8, 0, 0, 0, 6, 0, 0, 0, 3],\n",
        "        [4, 0, 0, 8, 0, 3, 0, 0, 1],\n",
        "        [7, 0, 0, 0, 2, 0, 0, 0, 6],\n",
        "        [0, 6, 0, 0, 0, 0, 2, 8, 0],\n",
        "        [0, 0, 0, 4, 1, 9, 0, 0, 5],\n",
        "        [0, 0, 0, 0, 8, 0, 0, 7, 9]\n",
        "    ]\n",
        "\n",
        "    print(\"Initial Sudoku Board:\")\n",
        "    print_board(sudoku_board)\n",
        "\n",
        "    if solve_sudoku(sudoku_board):\n",
        "        print(\"\\nSudoku Solved Successfully:\")\n",
        "        print_board(sudoku_board)\n",
        "    else:\n",
        "        print(\"The given Sudoku puzzle cannot be solved.\")\n",
        "\n",
        "if __name__ == \"__main__\":\n",
        "    main()\n"
      ],
      "metadata": {
        "colab": {
          "base_uri": "https://localhost:8080/"
        },
        "id": "Z_6ljFMNLJc3",
        "outputId": "93f1571f-a72f-4e9a-fff6-85fcdca56901"
      },
      "execution_count": 14,
      "outputs": [
        {
          "output_type": "stream",
          "name": "stdout",
          "text": [
            "Initial Sudoku Board:\n",
            "5 3 . | . 7 . | . . . \n",
            "6 . . | 1 9 5 | . . . \n",
            ". 9 8 | . . . | . 6 . \n",
            "---------------------\n",
            "8 . . | . 6 . | . . 3 \n",
            "4 . . | 8 . 3 | . . 1 \n",
            "7 . . | . 2 . | . . 6 \n",
            "---------------------\n",
            ". 6 . | . . . | 2 8 . \n",
            ". . . | 4 1 9 | . . 5 \n",
            ". . . | . 8 . | . 7 9 \n",
            "\n",
            "Sudoku Solved Successfully:\n",
            "5 3 4 | 6 7 8 | 9 1 2 \n",
            "6 7 2 | 1 9 5 | 3 4 8 \n",
            "1 9 8 | 3 4 2 | 5 6 7 \n",
            "---------------------\n",
            "8 5 9 | 7 6 1 | 4 2 3 \n",
            "4 2 6 | 8 5 3 | 7 9 1 \n",
            "7 1 3 | 9 2 4 | 8 5 6 \n",
            "---------------------\n",
            "9 6 1 | 5 3 7 | 2 8 4 \n",
            "2 8 7 | 4 1 9 | 6 3 5 \n",
            "3 4 5 | 2 8 6 | 1 7 9 \n"
          ]
        }
      ]
    },
    {
      "cell_type": "markdown",
      "source": [
        "# N-Queens Problem (using backtracking)"
      ],
      "metadata": {
        "id": "vW4aP_EvOg72"
      }
    },
    {
      "cell_type": "code",
      "source": [
        "def solve_n_queens(n):\n",
        "    solutions = []\n",
        "\n",
        "    def is_valid(queen_positions, current_row, current_col):\n",
        "        for row, col in enumerate(queen_positions):\n",
        "            # Check same column or diagonals.\n",
        "            if current_col == col or abs(current_row - row) == abs(current_col - col):\n",
        "                return False\n",
        "        return True\n",
        "\n",
        "    def backtrack(row, queen_positions):\n",
        "        # If we've placed queens in all rows, then it's a solution.\n",
        "        if row == n:\n",
        "            solutions.append(queen_positions.copy())\n",
        "            return\n",
        "\n",
        "        # Check each column for the current row.\n",
        "        for col in range(n):\n",
        "            if is_valid(queen_positions, row, col):\n",
        "                queen_positions.append(col)    # Place the queen tentatively.\n",
        "                backtrack(row + 1, queen_positions)  # Move on to the next row.\n",
        "                queen_positions.pop()  # Remove the queen (backtrack).\n",
        "\n",
        "    backtrack(0, [])\n",
        "    return solutions\n",
        "\n",
        "def format_solution(solution):\n",
        "    n = len(solution)\n",
        "    board_lines = []\n",
        "    for row in range(n):\n",
        "        line = \"\"\n",
        "        for col in range(n):\n",
        "            line += \"Q \" if solution[row] == col else \". \"\n",
        "        board_lines.append(line.strip())\n",
        "    return \"\\n\".join(board_lines)\n",
        "\n",
        "def main():\n",
        "    board_size = 4\n",
        "    all_solutions = solve_n_queens(board_size)\n",
        "\n",
        "    print(f\"Total solutions for {board_size}-Queens: {len(all_solutions)}\\n\")\n",
        "\n",
        "    for index, sol in enumerate(all_solutions, 1):\n",
        "        print(f\"Solution #{index}:\")\n",
        "        print(format_solution(sol))\n",
        "        print(\"\\n\" + \"-\"*20 + \"\\n\")\n",
        "\n",
        "if __name__ == \"__main__\":\n",
        "    main()\n"
      ],
      "metadata": {
        "colab": {
          "base_uri": "https://localhost:8080/"
        },
        "id": "GZ-ODtaTND0_",
        "outputId": "4e49d591-9611-4480-9389-558821a65f4f"
      },
      "execution_count": 16,
      "outputs": [
        {
          "output_type": "stream",
          "name": "stdout",
          "text": [
            "Total solutions for 4-Queens: 2\n",
            "\n",
            "Solution #1:\n",
            ". Q . .\n",
            ". . . Q\n",
            "Q . . .\n",
            ". . Q .\n",
            "\n",
            "--------------------\n",
            "\n",
            "Solution #2:\n",
            ". . Q .\n",
            "Q . . .\n",
            ". . . Q\n",
            ". Q . .\n",
            "\n",
            "--------------------\n",
            "\n"
          ]
        }
      ]
    },
    {
      "cell_type": "markdown",
      "source": [
        "# Word Ladder(usign BFS)"
      ],
      "metadata": {
        "id": "fTohog_VO5M2"
      }
    },
    {
      "cell_type": "code",
      "source": [
        "from collections import deque\n",
        "\n",
        "def generate_neighbors(word, valid_words):\n",
        "    neighbors = []\n",
        "    # Try changing each letter in the word.\n",
        "    for i in range(len(word)):\n",
        "        for letter in 'abcdefghijklmnopqrstuvwxyz':\n",
        "            if letter != word[i]:\n",
        "                # Construct a new word by replacing the character at position i.\n",
        "                new_word = word[:i] + letter + word[i+1:]\n",
        "                if new_word in valid_words:\n",
        "                    neighbors.append(new_word)\n",
        "    return neighbors\n",
        "\n",
        "def find_word_ladder(start, target, word_list):\n",
        "    # Convert the word list into a set for fast look-ups.\n",
        "    valid_words = set(word_list)\n",
        "    # Early exit if the target word is not in the dictionary.\n",
        "    if target not in valid_words:\n",
        "        return None\n",
        "\n",
        "    # Use a queue to perform BFS. Each element is a tuple: (current_word, path_taken)\n",
        "    queue = deque([(start, [start])])\n",
        "    visited = set([start])  # Track visited words to avoid cycles\n",
        "\n",
        "    while queue:\n",
        "        current_word, path = queue.popleft()\n",
        "        # If we reached the target, return the complete transformation sequence.\n",
        "        if current_word == target:\n",
        "            return path\n",
        "\n",
        "        # Explore all valid neighboring words.\n",
        "        for neighbor in generate_neighbors(current_word, valid_words):\n",
        "            if neighbor not in visited:\n",
        "                visited.add(neighbor)\n",
        "                queue.append((neighbor, path + [neighbor]))\n",
        "\n",
        "    # If BFS completes without finding the target, no valid sequence exists.\n",
        "    return None\n",
        "\n",
        "def main():\n",
        "    start_word = \"hit\"\n",
        "    target_word = \"cog\"\n",
        "    dictionary = [\"hot\", \"dot\", \"dog\", \"lot\", \"log\", \"cog\"]\n",
        "\n",
        "    transformation_sequence = find_word_ladder(start_word, target_word, dictionary)\n",
        "\n",
        "    if transformation_sequence:\n",
        "        print(\"Transformation Sequence Found:\")\n",
        "        print(\" -> \".join(transformation_sequence))\n",
        "    else:\n",
        "        print(\"No valid transformation sequence exists from '{}' to '{}'.\".format(start_word, target_word))\n",
        "\n",
        "if __name__ == \"__main__\":\n",
        "    main()\n"
      ],
      "metadata": {
        "colab": {
          "base_uri": "https://localhost:8080/"
        },
        "id": "kims0RoBN7jm",
        "outputId": "d4664565-4ee1-41c6-ee06-0fe8644f0143"
      },
      "execution_count": 5,
      "outputs": [
        {
          "output_type": "stream",
          "name": "stdout",
          "text": [
            "Transformation Sequence Found:\n",
            "hit -> hot -> dot -> dog -> cog\n"
          ]
        }
      ]
    },
    {
      "cell_type": "markdown",
      "source": [
        "# Find the Median of Two Sorted Arrays (Binary search)\n"
      ],
      "metadata": {
        "id": "l1uxSJfrPZus"
      }
    },
    {
      "cell_type": "code",
      "source": [
        "def find_median_sorted_arrays(nums1, nums2):\n",
        "    if len(nums1) > len(nums2):\n",
        "        return find_median_sorted_arrays(nums2, nums1)\n",
        "\n",
        "    x, y = len(nums1), len(nums2)\n",
        "    low, high = 0, x\n",
        "\n",
        "    while low <= high:\n",
        "        # Partition indices for nums1 and nums2\n",
        "        partition_x = (low + high) // 2\n",
        "        partition_y = (x + y + 1) // 2 - partition_x\n",
        "\n",
        "        # Handle edge cases where partition is at the boundaries.\n",
        "        max_left_x = float('-inf') if partition_x == 0 else nums1[partition_x - 1]\n",
        "        min_right_x = float('inf') if partition_x == x else nums1[partition_x]\n",
        "\n",
        "        max_left_y = float('-inf') if partition_y == 0 else nums2[partition_y - 1]\n",
        "        min_right_y = float('inf') if partition_y == y else nums2[partition_y]\n",
        "\n",
        "        # Check if we have found the correct partitions\n",
        "        if max_left_x <= min_right_y and max_left_y <= min_right_x:\n",
        "            # If the combined length is even, average the two center values.\n",
        "            if (x + y) % 2 == 0:\n",
        "                return (max(max_left_x, max_left_y) + min(min_right_x, min_right_y)) / 2.0\n",
        "            else:\n",
        "                return max(max_left_x, max_left_y)\n",
        "        # If the element on the left in nums1 is too big, move partition_x to the left.\n",
        "        elif max_left_x > min_right_y:\n",
        "            high = partition_x - 1\n",
        "        # Otherwise, move partition_x to the right.\n",
        "        else:\n",
        "            low = partition_x + 1\n",
        "\n",
        "    raise ValueError(\"Input arrays are not sorted or are invalid.\")\n",
        "\n",
        "def main():\n",
        "    # Example input arrays\n",
        "    nums1 = [1, 3]\n",
        "    nums2 = [2]\n",
        "\n",
        "    median = find_median_sorted_arrays(nums1, nums2)\n",
        "\n",
        "    print(\"The median of the two sorted arrays is:\", median)\n",
        "\n",
        "if __name__ == \"__main__\":\n",
        "    main()\n"
      ],
      "metadata": {
        "colab": {
          "base_uri": "https://localhost:8080/"
        },
        "id": "i2xXoanuOegG",
        "outputId": "167ae4db-b289-440e-950b-dfbb1c162471"
      },
      "execution_count": 10,
      "outputs": [
        {
          "output_type": "stream",
          "name": "stdout",
          "text": [
            "The median of the two sorted arrays is: 2\n"
          ]
        }
      ]
    },
    {
      "cell_type": "markdown",
      "source": [
        "# Graph Cycle Detection (Directed Graph): using  (DFS) with a recursion stack"
      ],
      "metadata": {
        "id": "pCvbea52QfzM"
      }
    },
    {
      "cell_type": "code",
      "source": [
        "def detect_cycle(graph):\n",
        "    visited = set() # visited nodes\n",
        "    rec_stack = set() # track nodes in DFS stack\n",
        "\n",
        "    def dfs(current):\n",
        "        # Mark the current node as visited and add it to the recursion stack\n",
        "        visited.add(current)\n",
        "        rec_stack.add(current)\n",
        "\n",
        "        for neighbor in graph.get(current, []): # Explore all neighbors of the current node\n",
        "            # If neighbor hasn't been visited, do a DFS on it.\n",
        "            if neighbor not in visited:\n",
        "                if dfs(neighbor):\n",
        "                    return True\n",
        "            # If neighbor is already in the recursion stack, a cycle exists\n",
        "            elif neighbor in rec_stack:\n",
        "                return True\n",
        "\n",
        "        # Remove the current node from the recursion stack as we backtrack\n",
        "        rec_stack.remove(current)\n",
        "        return False\n",
        "\n",
        "    # Start DFS from unvisted nodes\n",
        "    for node in graph:\n",
        "        if node not in visited:\n",
        "            if dfs(node):\n",
        "                return True\n",
        "    return False\n",
        "\n",
        "def main():\n",
        "    # Example for cyclic graph\n",
        "    cyclic_graph = {\n",
        "        0: [1],\n",
        "        1: [2],\n",
        "        2: [3],\n",
        "        3: [0]\n",
        "    }\n",
        "    # Example for non-cyclic graph\n",
        "    acyclic_graph = {\n",
        "        0: [1],\n",
        "        1: [2],\n",
        "        2: [3],\n",
        "        3: []\n",
        "    }\n",
        "    print(\"Cyclic graph:\", detect_cycle(cyclic_graph))\n",
        "    print(\"Acyclic graph:\", detect_cycle(acyclic_graph))\n",
        "\n",
        "if __name__ == \"__main__\":\n",
        "    main()\n"
      ],
      "metadata": {
        "colab": {
          "base_uri": "https://localhost:8080/"
        },
        "id": "7aF1xjgbQeCp",
        "outputId": "1ce86b24-e225-4dfe-f18c-a7beda1f2e2f"
      },
      "execution_count": 9,
      "outputs": [
        {
          "output_type": "stream",
          "name": "stdout",
          "text": [
            "Cyclic graph: True\n",
            "Acyclic graph: False\n"
          ]
        }
      ]
    },
    {
      "cell_type": "code",
      "source": [],
      "metadata": {
        "id": "RX2SsYeuUCl0"
      },
      "execution_count": null,
      "outputs": []
    }
  ]
}